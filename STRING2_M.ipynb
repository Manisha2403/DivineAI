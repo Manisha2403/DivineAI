{
  "cells": [
    {
      "cell_type": "markdown",
      "metadata": {
        "id": "view-in-github",
        "colab_type": "text"
      },
      "source": [
        "<a href=\"https://colab.research.google.com/github/Manisha2403/DivineAI/blob/main/STRING2_M.ipynb\" target=\"_parent\"><img src=\"https://colab.research.google.com/assets/colab-badge.svg\" alt=\"Open In Colab\"/></a>"
      ]
    },
    {
      "cell_type": "code",
      "execution_count": null,
      "id": "0efe39b5",
      "metadata": {
        "id": "0efe39b5",
        "outputId": "d1cee46c-648f-4292-f86a-f55e6a11b776"
      },
      "outputs": [
        {
          "name": "stdout",
          "output_type": "stream",
          "text": [
            "I'm going to add something here.\n"
          ]
        }
      ],
      "source": [
        "print(\"I'm going to add %s here.\" %'something')"
      ]
    },
    {
      "cell_type": "code",
      "execution_count": null,
      "id": "055aee29",
      "metadata": {
        "id": "055aee29",
        "outputId": "e92427be-5eb3-458f-f310-cbc731edbae9"
      },
      "outputs": [
        {
          "name": "stdout",
          "output_type": "stream",
          "text": [
            "I'm going to add some string here, and more string here.\n"
          ]
        }
      ],
      "source": [
        "print(\"I'm going to add %s string here, and %s string here.\" %('some','more'))"
      ]
    },
    {
      "cell_type": "code",
      "execution_count": null,
      "id": "ba5f89fb",
      "metadata": {
        "id": "ba5f89fb",
        "outputId": "91a656fa-1913-4afb-ab47-534996232957"
      },
      "outputs": [
        {
          "name": "stdout",
          "output_type": "stream",
          "text": [
            "I'm going to add some string here, and more string here.\n"
          ]
        }
      ],
      "source": [
        "a, b = 'some', 'more'\n",
        "print(\"I'm going to add %s string here, and %s string here.\" %(a,b))"
      ]
    },
    {
      "cell_type": "code",
      "execution_count": null,
      "id": "4a33262a",
      "metadata": {
        "id": "4a33262a",
        "outputId": "bc40fe9a-e7b6-4b36-feae-3b3fc87e5ebf"
      },
      "outputs": [
        {
          "name": "stdout",
          "output_type": "stream",
          "text": [
            "He is going to sleep.\n",
            "He is going to 'sleep'.\n"
          ]
        }
      ],
      "source": [
        "print(\"He is going to %s.\" %\"sleep\")\n",
        "print(\"He is going to %r.\" %\"sleep\")"
      ]
    },
    {
      "cell_type": "code",
      "execution_count": null,
      "id": "8b733358",
      "metadata": {
        "id": "8b733358",
        "outputId": "cc075855-bf4e-4e7e-ac70-15298d5e5708"
      },
      "outputs": [
        {
          "name": "stdout",
          "output_type": "stream",
          "text": [
            "He is going to \tsleep.\n",
            "He is going 'to \\tsleep'.\n"
          ]
        }
      ],
      "source": [
        "print(\"He is going %s.\" %\"to \\tsleep\")\n",
        "print(\"He is going %r.\" %\"to \\tsleep\")"
      ]
    },
    {
      "cell_type": "code",
      "execution_count": null,
      "id": "3b7fd876",
      "metadata": {
        "id": "3b7fd876",
        "outputId": "f29b22c2-b5f6-42f2-9d76-54a07f4fdeba"
      },
      "outputs": [
        {
          "name": "stdout",
          "output_type": "stream",
          "text": [
            "He earned profit upto 5.91.\n",
            "He earned profit upto 5.\n"
          ]
        }
      ],
      "source": [
        "print('He earned profit upto %s.' %5.91)\n",
        "print('He earned profit upto %d.' %5.91)"
      ]
    },
    {
      "cell_type": "code",
      "execution_count": null,
      "id": "2a36a5d6",
      "metadata": {
        "id": "2a36a5d6",
        "outputId": "cf18eafd-9446-4460-f423-c45aad03108a"
      },
      "outputs": [
        {
          "name": "stdout",
          "output_type": "stream",
          "text": [
            "Floting point numbers: 14.13386\n"
          ]
        }
      ],
      "source": [
        "print('Floting point numbers: %5.5f' %(14.133856))"
      ]
    },
    {
      "cell_type": "code",
      "execution_count": null,
      "id": "931b9775",
      "metadata": {
        "id": "931b9775",
        "outputId": "984af94f-7ba4-4eab-e213-d4534a150f7c"
      },
      "outputs": [
        {
          "name": "stdout",
          "output_type": "stream",
          "text": [
            "Floting point numbers: 14\n"
          ]
        }
      ],
      "source": [
        "print('Floting point numbers: %1.0f' %(14.133856))"
      ]
    },
    {
      "cell_type": "code",
      "execution_count": null,
      "id": "1966187a",
      "metadata": {
        "id": "1966187a",
        "outputId": "ddc5d62f-8062-42fd-a28e-9eff2502ec8b"
      },
      "outputs": [
        {
          "name": "stdout",
          "output_type": "stream",
          "text": [
            "Floting point numbers: 14.133856000\n"
          ]
        }
      ],
      "source": [
        "print('Floting point numbers: %1.9f' %(14.133856))"
      ]
    },
    {
      "cell_type": "code",
      "execution_count": null,
      "id": "cfa79da7",
      "metadata": {
        "id": "cfa79da7",
        "outputId": "66c9db71-a3e2-414a-8d61-3cd4241ac1a2"
      },
      "outputs": [
        {
          "name": "stdout",
          "output_type": "stream",
          "text": [
            "Floting point numbers:          14.134\n"
          ]
        }
      ],
      "source": [
        "print('Floting point numbers: %15.3f' %(14.133856))"
      ]
    },
    {
      "cell_type": "code",
      "execution_count": null,
      "id": "3ebee013",
      "metadata": {
        "id": "3ebee013",
        "outputId": "a5906a05-3064-43f2-d7c0-1bb3810536f9"
      },
      "outputs": [
        {
          "name": "stdout",
          "output_type": "stream",
          "text": [
            "Floting point numbers:               14.1338560\n"
          ]
        }
      ],
      "source": [
        "print('Floting point numbers: %24.7f' %(14.133856))"
      ]
    },
    {
      "cell_type": "code",
      "execution_count": null,
      "id": "74c8e7c7",
      "metadata": {
        "id": "74c8e7c7",
        "outputId": "208f8291-5dfe-4653-e33e-c5c54b3013c1"
      },
      "outputs": [
        {
          "name": "stdout",
          "output_type": "stream",
          "text": [
            "First: hi!, Second:  5.55, Third: 'bye!'\n"
          ]
        }
      ],
      "source": [
        "print('First: %s, Second: %5.2f, Third: %r' %('hi!',5.5464,'bye!'))"
      ]
    },
    {
      "cell_type": "code",
      "execution_count": null,
      "id": "ba4d985e",
      "metadata": {
        "id": "ba4d985e",
        "outputId": "2ba404c3-0d3e-4db7-a9dd-3fd72ffc7a22"
      },
      "outputs": [
        {
          "name": "stdout",
          "output_type": "stream",
          "text": [
            "I am going to Delhi next week.\n"
          ]
        }
      ],
      "source": [
        "print('I am going to {} next week.'.format('Delhi'))"
      ]
    },
    {
      "cell_type": "code",
      "execution_count": null,
      "id": "330fca33",
      "metadata": {
        "id": "330fca33",
        "outputId": "d4e9eaba-e6ed-4fbb-a73a-3a59397eccc3"
      },
      "outputs": [
        {
          "name": "stdout",
          "output_type": "stream",
          "text": [
            "He is a quick learner\n"
          ]
        }
      ],
      "source": [
        "print('He {1} {3} {2} {0}'.format('learner','is','quick','a'))"
      ]
    },
    {
      "cell_type": "code",
      "execution_count": null,
      "id": "4a7db729",
      "metadata": {
        "id": "4a7db729",
        "outputId": "a0f1fa85-97a8-4ea4-b911-ef8d793d5ac3"
      },
      "outputs": [
        {
          "name": "stdout",
          "output_type": "stream",
          "text": [
            "First Object: Two, Second Object: 12.3, Third Object: 1\n"
          ]
        }
      ],
      "source": [
        "print('First Object: {b}, Second Object: {c}, Third Object: {a}'.format(a=1,b='Two',c=12.3))"
      ]
    },
    {
      "cell_type": "code",
      "execution_count": null,
      "id": "df5d9e87",
      "metadata": {
        "id": "df5d9e87",
        "outputId": "59f50466-df24-4f02-d13d-3ff56cc490c8"
      },
      "outputs": [
        {
          "name": "stdout",
          "output_type": "stream",
          "text": [
            "A penny saved is a penny earned.\n",
            "A penny saved is a penny earned.\n"
          ]
        }
      ],
      "source": [
        "print('A %s saved is a %s earned.' %('penny','penny'))\n",
        "# vs.\n",
        "print('A {d} saved is a {d} earned.'.format(d='penny'))"
      ]
    },
    {
      "cell_type": "code",
      "execution_count": null,
      "id": "1a69eb8d",
      "metadata": {
        "id": "1a69eb8d",
        "outputId": "3878eb42-0978-494c-e126-da2efd947c6b"
      },
      "outputs": [
        {
          "name": "stdout",
          "output_type": "stream",
          "text": [
            "Ball            | Quantity\n",
            "Red             |   5.0\n",
            "Oranges         |    11\n"
          ]
        }
      ],
      "source": [
        "print('{0:15} | {1:5}'.format('Ball', 'Quantity'))\n",
        "print('{0:15} | {1:5}'.format('Red', 5.))\n",
        "print('{0:15} | {1:5}'.format('Oranges', 11))"
      ]
    },
    {
      "cell_type": "code",
      "execution_count": null,
      "id": "4a7fddaf",
      "metadata": {
        "id": "4a7fddaf",
        "outputId": "1bbeb06a-ca36-4c2c-f4be-6c074edbcfd7"
      },
      "outputs": [
        {
          "name": "stdout",
          "output_type": "stream",
          "text": [
            "Left       |   Center   |      Right\n",
            "11         |     22     |         33\n"
          ]
        }
      ],
      "source": [
        "print('{0:<10} | {1:^10} | {2:>10}'.format('Left','Center','Right'))\n",
        "print('{0:<10} | {1:^10} | {2:>10}'.format(11,22,33))"
      ]
    },
    {
      "cell_type": "code",
      "execution_count": null,
      "id": "e6a036ee",
      "metadata": {
        "id": "e6a036ee",
        "outputId": "9d900b47-db98-42b7-866e-cfb8336f033e"
      },
      "outputs": [
        {
          "name": "stdout",
          "output_type": "stream",
          "text": [
            "Left...... | --Center-- | ,,,,,Right\n",
            "11........ | ----22---- | ,,,,,,,,33\n"
          ]
        }
      ],
      "source": [
        "print('{0:.<10} | {1:-^10} | {2:,>10}'.format('Left','Center','Right'))\n",
        "print('{0:.<10} | {1:-^10} | {2:,>10}'.format(11,22,33))"
      ]
    },
    {
      "cell_type": "code",
      "execution_count": null,
      "id": "e82d3912",
      "metadata": {
        "id": "e82d3912",
        "outputId": "266c76fc-7d05-4be8-a5da-1ad89d133974"
      },
      "outputs": [
        {
          "name": "stdout",
          "output_type": "stream",
          "text": [
            "This is my twentyfive-character, four-decimal number:                  13.5799\n",
            "This is my twentyfive-character, four-decimal number:                  13.5799\n"
          ]
        }
      ],
      "source": [
        "print('This is my twentyfive-character, four-decimal number:%25.4f' %13.57987)\n",
        "print('This is my twentyfive-character, four-decimal number:{0:25.4f}'.format(13.57987))"
      ]
    },
    {
      "cell_type": "code",
      "execution_count": null,
      "id": "6d49d215",
      "metadata": {
        "id": "6d49d215",
        "outputId": "dcc0bd55-6df9-42f6-c89d-3625112d0287"
      },
      "outputs": [
        {
          "name": "stdout",
          "output_type": "stream",
          "text": [
            "He said his name is Klaus.\n"
          ]
        }
      ],
      "source": [
        "name = 'Klaus'\n",
        "\n",
        "print(f\"He said his name is {name}.\")"
      ]
    },
    {
      "cell_type": "code",
      "execution_count": null,
      "id": "05a8620f",
      "metadata": {
        "id": "05a8620f",
        "outputId": "82ba1264-f7ec-47d2-95ec-01521bdd4da5"
      },
      "outputs": [
        {
          "name": "stdout",
          "output_type": "stream",
          "text": [
            "He said his name is 'Klaus'.\n"
          ]
        }
      ],
      "source": [
        "print(f\"He said his name is {name!r}.\")"
      ]
    },
    {
      "cell_type": "code",
      "execution_count": null,
      "id": "b14a4c74",
      "metadata": {
        "id": "b14a4c74",
        "outputId": "370ef71e-21cc-42f6-9ca6-10e28eba9876"
      },
      "outputs": [
        {
          "name": "stdout",
          "output_type": "stream",
          "text": [
            "My 10 character, four decimal number is:  67.97000\n",
            "My 10 character, four decimal number is:     67.97\n"
          ]
        }
      ],
      "source": [
        "num = 67.97\n",
        "print(\"My 10 character, four decimal number is:{0:10.5f}\".format(num))\n",
        "print(f\"My 10 character, four decimal number is:{num:{10}.{7}}\")"
      ]
    },
    {
      "cell_type": "code",
      "execution_count": null,
      "id": "5616f570",
      "metadata": {
        "id": "5616f570",
        "outputId": "cfcab0a7-27e9-4eb8-fa87-2cdea5f332ce"
      },
      "outputs": [
        {
          "name": "stdout",
          "output_type": "stream",
          "text": [
            "My 10 character, four decimal number is:  67.97000\n",
            "My 10 character, four decimal number is:  67.97000\n"
          ]
        }
      ],
      "source": [
        "num = 67.97\n",
        "print(\"My 10 character, four decimal number is:{0:10.5f}\".format(num))\n",
        "print(f\"My 10 character, four decimal number is:{num:10.5f}\")"
      ]
    },
    {
      "cell_type": "code",
      "execution_count": null,
      "id": "c38d857f",
      "metadata": {
        "id": "c38d857f"
      },
      "outputs": [],
      "source": [
        ""
      ]
    }
  ],
  "metadata": {
    "kernelspec": {
      "display_name": "Python 3 (ipykernel)",
      "language": "python",
      "name": "python3"
    },
    "language_info": {
      "codemirror_mode": {
        "name": "ipython",
        "version": 3
      },
      "file_extension": ".py",
      "mimetype": "text/x-python",
      "name": "python",
      "nbconvert_exporter": "python",
      "pygments_lexer": "ipython3",
      "version": "3.9.7"
    },
    "colab": {
      "name": "STRING2.M.ipynb",
      "provenance": [],
      "include_colab_link": true
    }
  },
  "nbformat": 4,
  "nbformat_minor": 5
}