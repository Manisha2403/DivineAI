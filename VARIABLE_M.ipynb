{
  "cells": [
    {
      "cell_type": "markdown",
      "metadata": {
        "id": "view-in-github",
        "colab_type": "text"
      },
      "source": [
        "<a href=\"https://colab.research.google.com/github/Manisha2403/DivineAI/blob/main/VARIABLE_M.ipynb\" target=\"_parent\"><img src=\"https://colab.research.google.com/assets/colab-badge.svg\" alt=\"Open In Colab\"/></a>"
      ]
    },
    {
      "cell_type": "code",
      "execution_count": null,
      "id": "9f836687",
      "metadata": {
        "id": "9f836687"
      },
      "outputs": [],
      "source": [
        "my_pen = 10"
      ]
    },
    {
      "cell_type": "code",
      "execution_count": null,
      "id": "64fef0c5",
      "metadata": {
        "id": "64fef0c5",
        "outputId": "76afefa7-3518-4b2e-b6d8-466bf8399b93"
      },
      "outputs": [
        {
          "data": {
            "text/plain": [
              "10"
            ]
          },
          "execution_count": 6,
          "metadata": {},
          "output_type": "execute_result"
        }
      ],
      "source": [
        "my_pen"
      ]
    },
    {
      "cell_type": "code",
      "execution_count": null,
      "id": "473103fd",
      "metadata": {
        "id": "473103fd"
      },
      "outputs": [],
      "source": [
        "my_friend = [\"Sweta\",\"Pipsa\"]"
      ]
    },
    {
      "cell_type": "code",
      "execution_count": null,
      "id": "a537a4d1",
      "metadata": {
        "id": "a537a4d1",
        "outputId": "18e71a9b-7bfb-4640-fbc7-d5513edc8195"
      },
      "outputs": [
        {
          "data": {
            "text/plain": [
              "['Sweta', 'Pipsa']"
            ]
          },
          "execution_count": 10,
          "metadata": {},
          "output_type": "execute_result"
        }
      ],
      "source": [
        "my_friend"
      ]
    },
    {
      "cell_type": "code",
      "execution_count": null,
      "id": "2b3b776f",
      "metadata": {
        "id": "2b3b776f"
      },
      "outputs": [],
      "source": [
        "z = 6"
      ]
    },
    {
      "cell_type": "code",
      "execution_count": null,
      "id": "e281c3f3",
      "metadata": {
        "id": "e281c3f3",
        "outputId": "8d387fb0-9041-4223-f5de-977073eaac7c"
      },
      "outputs": [
        {
          "data": {
            "text/plain": [
              "6"
            ]
          },
          "execution_count": 15,
          "metadata": {},
          "output_type": "execute_result"
        }
      ],
      "source": [
        "z"
      ]
    },
    {
      "cell_type": "code",
      "execution_count": null,
      "id": "72f03f1e",
      "metadata": {
        "id": "72f03f1e"
      },
      "outputs": [],
      "source": [
        "z = 9"
      ]
    },
    {
      "cell_type": "code",
      "execution_count": null,
      "id": "c5ce4f3c",
      "metadata": {
        "id": "c5ce4f3c",
        "outputId": "2af4af6c-d4d7-41ed-80f5-d5a59d8d76d3"
      },
      "outputs": [
        {
          "data": {
            "text/plain": [
              "18"
            ]
          },
          "execution_count": 17,
          "metadata": {},
          "output_type": "execute_result"
        }
      ],
      "source": [
        "z+z"
      ]
    },
    {
      "cell_type": "code",
      "execution_count": null,
      "id": "b56b84d6",
      "metadata": {
        "id": "b56b84d6"
      },
      "outputs": [],
      "source": [
        "z = z+10"
      ]
    },
    {
      "cell_type": "code",
      "execution_count": null,
      "id": "7c32fb6a",
      "metadata": {
        "id": "7c32fb6a",
        "outputId": "a5e1c8e5-2423-426b-9f3e-447cf9bce53a"
      },
      "outputs": [
        {
          "data": {
            "text/plain": [
              "19"
            ]
          },
          "execution_count": 19,
          "metadata": {},
          "output_type": "execute_result"
        }
      ],
      "source": [
        "z"
      ]
    },
    {
      "cell_type": "code",
      "execution_count": null,
      "id": "833eef36",
      "metadata": {
        "id": "833eef36"
      },
      "outputs": [],
      "source": [
        "z += 10"
      ]
    },
    {
      "cell_type": "code",
      "execution_count": null,
      "id": "2b570d39",
      "metadata": {
        "id": "2b570d39",
        "outputId": "6816a2e2-e1d2-40b3-ae42-e2d6e1a4bf68"
      },
      "outputs": [
        {
          "data": {
            "text/plain": [
              "29"
            ]
          },
          "execution_count": 21,
          "metadata": {},
          "output_type": "execute_result"
        }
      ],
      "source": [
        "z"
      ]
    },
    {
      "cell_type": "code",
      "execution_count": null,
      "id": "2759b13d",
      "metadata": {
        "id": "2759b13d"
      },
      "outputs": [],
      "source": [
        "z *= 3"
      ]
    },
    {
      "cell_type": "code",
      "execution_count": null,
      "id": "9e7fa2ca",
      "metadata": {
        "id": "9e7fa2ca",
        "outputId": "ccb8666f-aa71-43f5-cae6-c5ccb33632b4"
      },
      "outputs": [
        {
          "data": {
            "text/plain": [
              "87"
            ]
          },
          "execution_count": 23,
          "metadata": {},
          "output_type": "execute_result"
        }
      ],
      "source": [
        "z"
      ]
    },
    {
      "cell_type": "code",
      "execution_count": null,
      "id": "b16d3e67",
      "metadata": {
        "id": "b16d3e67",
        "outputId": "13a5a553-156f-41d5-d152-f13b2a338864"
      },
      "outputs": [
        {
          "data": {
            "text/plain": [
              "int"
            ]
          },
          "execution_count": 24,
          "metadata": {},
          "output_type": "execute_result"
        }
      ],
      "source": [
        "type(z)"
      ]
    },
    {
      "cell_type": "code",
      "execution_count": null,
      "id": "202664bf",
      "metadata": {
        "id": "202664bf"
      },
      "outputs": [],
      "source": [
        "z = (2,1)"
      ]
    },
    {
      "cell_type": "code",
      "execution_count": null,
      "id": "48c08fff",
      "metadata": {
        "scrolled": true,
        "id": "48c08fff",
        "outputId": "a67a8e78-b2ab-4586-8c6f-45eb9fc3149d"
      },
      "outputs": [
        {
          "data": {
            "text/plain": [
              "tuple"
            ]
          },
          "execution_count": 26,
          "metadata": {},
          "output_type": "execute_result"
        }
      ],
      "source": [
        "type(z)"
      ]
    },
    {
      "cell_type": "code",
      "execution_count": null,
      "id": "14a15942",
      "metadata": {
        "id": "14a15942"
      },
      "outputs": [],
      "source": [
        "my_income = 500\n",
        "tax_rate = 0.2\n",
        "my_taxes = my_income*tax_rate"
      ]
    },
    {
      "cell_type": "code",
      "execution_count": null,
      "id": "967a2a16",
      "metadata": {
        "id": "967a2a16",
        "outputId": "1c191a6f-3992-441d-e8cc-cb1a5c48f2e4"
      },
      "outputs": [
        {
          "data": {
            "text/plain": [
              "100.0"
            ]
          },
          "execution_count": 28,
          "metadata": {},
          "output_type": "execute_result"
        }
      ],
      "source": [
        "my_taxes"
      ]
    },
    {
      "cell_type": "code",
      "execution_count": null,
      "id": "96e961b6",
      "metadata": {
        "id": "96e961b6",
        "outputId": "8e2b0ab9-7df0-4ae3-bde9-3db446d24e01"
      },
      "outputs": [
        {
          "name": "stdout",
          "output_type": "stream",
          "text": [
            "C:\\Users\\DELL\\DIVINEAI\\PYTHON\n"
          ]
        }
      ],
      "source": [
        "import os\n",
        "print(os.getcwd())"
      ]
    },
    {
      "cell_type": "code",
      "execution_count": null,
      "id": "ae6dc96e",
      "metadata": {
        "id": "ae6dc96e"
      },
      "outputs": [],
      "source": [
        ""
      ]
    }
  ],
  "metadata": {
    "kernelspec": {
      "display_name": "Python 3 (ipykernel)",
      "language": "python",
      "name": "python3"
    },
    "language_info": {
      "codemirror_mode": {
        "name": "ipython",
        "version": 3
      },
      "file_extension": ".py",
      "mimetype": "text/x-python",
      "name": "python",
      "nbconvert_exporter": "python",
      "pygments_lexer": "ipython3",
      "version": "3.9.7"
    },
    "colab": {
      "name": "VARIABLE.M.ipynb",
      "provenance": [],
      "include_colab_link": true
    }
  },
  "nbformat": 4,
  "nbformat_minor": 5
}