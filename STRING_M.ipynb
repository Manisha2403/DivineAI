{
  "cells": [
    {
      "cell_type": "markdown",
      "metadata": {
        "id": "view-in-github",
        "colab_type": "text"
      },
      "source": [
        "<a href=\"https://colab.research.google.com/github/Manisha2403/DivineAI/blob/main/STRING_M.ipynb\" target=\"_parent\"><img src=\"https://colab.research.google.com/assets/colab-badge.svg\" alt=\"Open In Colab\"/></a>"
      ]
    },
    {
      "cell_type": "code",
      "execution_count": null,
      "id": "2442a59e",
      "metadata": {
        "id": "2442a59e",
        "outputId": "88fb0f01-4270-45d0-a167-577a0b634c1c"
      },
      "outputs": [
        {
          "data": {
            "text/plain": [
              "'good morning'"
            ]
          },
          "execution_count": 1,
          "metadata": {},
          "output_type": "execute_result"
        }
      ],
      "source": [
        "#string can be create with the use of single quotes or double quotes\n",
        "\"good morning\""
      ]
    },
    {
      "cell_type": "code",
      "execution_count": null,
      "id": "62878d27",
      "metadata": {
        "id": "62878d27",
        "outputId": "2f80d36a-ef1c-4ca5-9ba8-fccb7fa2a771"
      },
      "outputs": [
        {
          "data": {
            "text/plain": [
              "'good morning'"
            ]
          },
          "execution_count": 2,
          "metadata": {},
          "output_type": "execute_result"
        }
      ],
      "source": [
        "'good morning'"
      ]
    },
    {
      "cell_type": "code",
      "execution_count": null,
      "id": "e17c0de8",
      "metadata": {
        "id": "e17c0de8",
        "outputId": "954b5c2e-7130-48b1-8849-e1bd63872ca5"
      },
      "outputs": [
        {
          "data": {
            "text/plain": [
              "'good morning 2'"
            ]
          },
          "execution_count": 3,
          "metadata": {},
          "output_type": "execute_result"
        }
      ],
      "source": [
        "'good morning 1'\n",
        "'good morning 2'"
      ]
    },
    {
      "cell_type": "code",
      "execution_count": null,
      "id": "843a3471",
      "metadata": {
        "id": "843a3471",
        "outputId": "621fe4f2-f85b-4e1e-acdb-67c7ef7b88a7"
      },
      "outputs": [
        {
          "name": "stdout",
          "output_type": "stream",
          "text": [
            "come here 1\n",
            "come here 2\n",
            "go \n",
            " there\n",
            "\n",
            "\n",
            "go there\n"
          ]
        }
      ],
      "source": [
        "print('come here 1')\n",
        "print('come here 2')\n",
        "print('go \\n there')\n",
        "print('\\n')\n",
        "print('go there')"
      ]
    },
    {
      "cell_type": "code",
      "execution_count": null,
      "id": "0d27eefc",
      "metadata": {
        "id": "0d27eefc",
        "outputId": "dabf3406-622c-40f3-fe33-1e3add3e6730"
      },
      "outputs": [
        {
          "data": {
            "text/plain": [
              "12"
            ]
          },
          "execution_count": 5,
          "metadata": {},
          "output_type": "execute_result"
        }
      ],
      "source": [
        "len('good morning')"
      ]
    },
    {
      "cell_type": "code",
      "execution_count": null,
      "id": "a286f630",
      "metadata": {
        "id": "a286f630"
      },
      "outputs": [],
      "source": [
        "a = 'good morning'"
      ]
    },
    {
      "cell_type": "code",
      "execution_count": null,
      "id": "1d9d5385",
      "metadata": {
        "id": "1d9d5385",
        "outputId": "3f5a4210-a373-4ff7-db31-02b58246299c"
      },
      "outputs": [
        {
          "data": {
            "text/plain": [
              "'good morning'"
            ]
          },
          "execution_count": 7,
          "metadata": {},
          "output_type": "execute_result"
        }
      ],
      "source": [
        "a"
      ]
    },
    {
      "cell_type": "code",
      "execution_count": null,
      "id": "e7ba2928",
      "metadata": {
        "id": "e7ba2928",
        "outputId": "40ed81b9-e453-4292-c4d0-5821fafe4674"
      },
      "outputs": [
        {
          "name": "stdout",
          "output_type": "stream",
          "text": [
            "good morning\n"
          ]
        }
      ],
      "source": [
        "print(a)"
      ]
    },
    {
      "cell_type": "code",
      "execution_count": null,
      "id": "6b97f5aa",
      "metadata": {
        "id": "6b97f5aa",
        "outputId": "28c28ad8-36ba-4dc2-d3c9-f135bfda8742"
      },
      "outputs": [
        {
          "data": {
            "text/plain": [
              "'g'"
            ]
          },
          "execution_count": 9,
          "metadata": {},
          "output_type": "execute_result"
        }
      ],
      "source": [
        "a[0]"
      ]
    },
    {
      "cell_type": "code",
      "execution_count": null,
      "id": "9a806eb9",
      "metadata": {
        "id": "9a806eb9",
        "outputId": "05c560e5-6326-464d-d2a9-8a3bc317f840"
      },
      "outputs": [
        {
          "data": {
            "text/plain": [
              "'o'"
            ]
          },
          "execution_count": 10,
          "metadata": {},
          "output_type": "execute_result"
        }
      ],
      "source": [
        "a[1]"
      ]
    },
    {
      "cell_type": "code",
      "execution_count": null,
      "id": "7dbc6f56",
      "metadata": {
        "id": "7dbc6f56",
        "outputId": "050118a6-5bf8-4cb9-de08-03a39f521276"
      },
      "outputs": [
        {
          "data": {
            "text/plain": [
              "'d'"
            ]
          },
          "execution_count": 11,
          "metadata": {},
          "output_type": "execute_result"
        }
      ],
      "source": [
        "a[3]"
      ]
    },
    {
      "cell_type": "code",
      "execution_count": null,
      "id": "4d310a32",
      "metadata": {
        "id": "4d310a32",
        "outputId": "48424f79-11c4-4ca5-f3f2-c8ca226c8a18"
      },
      "outputs": [
        {
          "data": {
            "text/plain": [
              "'ood morning'"
            ]
          },
          "execution_count": 12,
          "metadata": {},
          "output_type": "execute_result"
        }
      ],
      "source": [
        "a[1:]"
      ]
    },
    {
      "cell_type": "code",
      "execution_count": null,
      "id": "d78e4f34",
      "metadata": {
        "id": "d78e4f34",
        "outputId": "5456cbc6-07d1-4550-c329-bc16f9cd6849"
      },
      "outputs": [
        {
          "data": {
            "text/plain": [
              "'good'"
            ]
          },
          "execution_count": 13,
          "metadata": {},
          "output_type": "execute_result"
        }
      ],
      "source": [
        "a[:4]"
      ]
    },
    {
      "cell_type": "code",
      "execution_count": null,
      "id": "938ad974",
      "metadata": {
        "id": "938ad974",
        "outputId": "d8b9083d-74f4-42d1-86f2-a7c8827198d2"
      },
      "outputs": [
        {
          "data": {
            "text/plain": [
              "'good morning'"
            ]
          },
          "execution_count": 14,
          "metadata": {},
          "output_type": "execute_result"
        }
      ],
      "source": [
        "a[:]"
      ]
    },
    {
      "cell_type": "code",
      "execution_count": null,
      "id": "58d4d516",
      "metadata": {
        "id": "58d4d516",
        "outputId": "5c80304d-f7e2-44b3-88f5-b75e26afdc93"
      },
      "outputs": [
        {
          "data": {
            "text/plain": [
              "'g'"
            ]
          },
          "execution_count": 15,
          "metadata": {},
          "output_type": "execute_result"
        }
      ],
      "source": [
        "a[-1]"
      ]
    },
    {
      "cell_type": "code",
      "execution_count": null,
      "id": "e0df9b1c",
      "metadata": {
        "id": "e0df9b1c",
        "outputId": "ce578f3a-4836-4163-ef8f-eee9286ead74"
      },
      "outputs": [
        {
          "data": {
            "text/plain": [
              "'good mornin'"
            ]
          },
          "execution_count": 16,
          "metadata": {},
          "output_type": "execute_result"
        }
      ],
      "source": [
        "a[:-1]"
      ]
    },
    {
      "cell_type": "code",
      "execution_count": null,
      "id": "34aae89e",
      "metadata": {
        "id": "34aae89e",
        "outputId": "bd1fb78a-31fe-40bd-d821-eb99a1a772de"
      },
      "outputs": [
        {
          "data": {
            "text/plain": [
              "'good morning'"
            ]
          },
          "execution_count": 17,
          "metadata": {},
          "output_type": "execute_result"
        }
      ],
      "source": [
        "a[::1]"
      ]
    },
    {
      "cell_type": "code",
      "execution_count": null,
      "id": "baad1159",
      "metadata": {
        "id": "baad1159",
        "outputId": "1de87e42-8ebf-4170-cbc3-f7df5952ae8d"
      },
      "outputs": [
        {
          "data": {
            "text/plain": [
              "'go onn'"
            ]
          },
          "execution_count": 18,
          "metadata": {},
          "output_type": "execute_result"
        }
      ],
      "source": [
        "a[::2]"
      ]
    },
    {
      "cell_type": "code",
      "execution_count": null,
      "id": "e5a10885",
      "metadata": {
        "id": "e5a10885",
        "outputId": "16dddb21-4a30-4bc5-f516-640b198c56d6"
      },
      "outputs": [
        {
          "data": {
            "text/plain": [
              "'gninrom doog'"
            ]
          },
          "execution_count": 19,
          "metadata": {},
          "output_type": "execute_result"
        }
      ],
      "source": [
        "a[::-1]"
      ]
    },
    {
      "cell_type": "code",
      "execution_count": null,
      "id": "3c05a2a5",
      "metadata": {
        "id": "3c05a2a5",
        "outputId": "69c8a778-aa02-4e32-8f9f-b321bd37b080"
      },
      "outputs": [
        {
          "data": {
            "text/plain": [
              "'good morningadd me'"
            ]
          },
          "execution_count": 20,
          "metadata": {},
          "output_type": "execute_result"
        }
      ],
      "source": [
        "a + 'add me'"
      ]
    },
    {
      "cell_type": "code",
      "execution_count": null,
      "id": "d20fc4c1",
      "metadata": {
        "id": "d20fc4c1"
      },
      "outputs": [],
      "source": [
        "a = a + 'add me'"
      ]
    },
    {
      "cell_type": "code",
      "execution_count": null,
      "id": "55e842b0",
      "metadata": {
        "id": "55e842b0",
        "outputId": "31a8c511-dc73-4ebc-b9d6-08dcf89a2c70"
      },
      "outputs": [
        {
          "name": "stdout",
          "output_type": "stream",
          "text": [
            "good morningadd me\n"
          ]
        }
      ],
      "source": [
        "print(a)"
      ]
    },
    {
      "cell_type": "code",
      "execution_count": null,
      "id": "0b087ae5",
      "metadata": {
        "id": "0b087ae5",
        "outputId": "42f0476f-9389-435c-96fe-10152f59e4e8"
      },
      "outputs": [
        {
          "data": {
            "text/plain": [
              "'good morningadd me'"
            ]
          },
          "execution_count": 23,
          "metadata": {},
          "output_type": "execute_result"
        }
      ],
      "source": [
        "a"
      ]
    },
    {
      "cell_type": "code",
      "execution_count": null,
      "id": "8c1e7429",
      "metadata": {
        "id": "8c1e7429"
      },
      "outputs": [],
      "source": [
        "letter = 'A'"
      ]
    },
    {
      "cell_type": "code",
      "execution_count": null,
      "id": "ec4478ea",
      "metadata": {
        "id": "ec4478ea",
        "outputId": "75733fb6-d3d4-4621-9533-e9d477548415"
      },
      "outputs": [
        {
          "data": {
            "text/plain": [
              "'AAAAAAAAAAAAAAAAAAAA'"
            ]
          },
          "execution_count": 25,
          "metadata": {},
          "output_type": "execute_result"
        }
      ],
      "source": [
        "letter*20"
      ]
    },
    {
      "cell_type": "code",
      "execution_count": null,
      "id": "e5c2bba5",
      "metadata": {
        "id": "e5c2bba5",
        "outputId": "7804e821-52ba-4a50-cca2-ce2888e82409"
      },
      "outputs": [
        {
          "data": {
            "text/plain": [
              "'GOOD MORNINGADD ME'"
            ]
          },
          "execution_count": 26,
          "metadata": {},
          "output_type": "execute_result"
        }
      ],
      "source": [
        "a.upper()"
      ]
    },
    {
      "cell_type": "code",
      "execution_count": null,
      "id": "fc3a2bd5",
      "metadata": {
        "id": "fc3a2bd5",
        "outputId": "cd28a673-abfb-49e6-b5ab-11b7a3493b84"
      },
      "outputs": [
        {
          "data": {
            "text/plain": [
              "'good morningadd me'"
            ]
          },
          "execution_count": 28,
          "metadata": {},
          "output_type": "execute_result"
        }
      ],
      "source": [
        "a.lower()"
      ]
    },
    {
      "cell_type": "code",
      "execution_count": null,
      "id": "879743c6",
      "metadata": {
        "id": "879743c6",
        "outputId": "800b014c-8cb7-4d02-e2cb-6eac484b5d13"
      },
      "outputs": [
        {
          "data": {
            "text/plain": [
              "['good', 'morningadd', 'me']"
            ]
          },
          "execution_count": 29,
          "metadata": {},
          "output_type": "execute_result"
        }
      ],
      "source": [
        "a.split()"
      ]
    },
    {
      "cell_type": "code",
      "execution_count": null,
      "id": "dbf25838",
      "metadata": {
        "id": "dbf25838",
        "outputId": "e5450042-ca1c-48d7-ac15-92e695421068"
      },
      "outputs": [
        {
          "data": {
            "text/plain": [
              "['g', '', 'd m', 'rningadd me']"
            ]
          },
          "execution_count": 31,
          "metadata": {},
          "output_type": "execute_result"
        }
      ],
      "source": [
        "a.split('o')"
      ]
    },
    {
      "cell_type": "code",
      "execution_count": null,
      "id": "7f4037a5",
      "metadata": {
        "id": "7f4037a5",
        "outputId": "0ecd9ba7-a6a4-466b-d9b9-c7d6ce867b0b"
      },
      "outputs": [
        {
          "data": {
            "text/plain": [
              "'Hello: World'"
            ]
          },
          "execution_count": 34,
          "metadata": {},
          "output_type": "execute_result"
        }
      ],
      "source": [
        "'Hello: {}'.format('World')"
      ]
    },
    {
      "cell_type": "code",
      "execution_count": null,
      "id": "448ccfd3",
      "metadata": {
        "id": "448ccfd3"
      },
      "outputs": [],
      "source": [
        ""
      ]
    }
  ],
  "metadata": {
    "kernelspec": {
      "display_name": "Python 3 (ipykernel)",
      "language": "python",
      "name": "python3"
    },
    "language_info": {
      "codemirror_mode": {
        "name": "ipython",
        "version": 3
      },
      "file_extension": ".py",
      "mimetype": "text/x-python",
      "name": "python",
      "nbconvert_exporter": "python",
      "pygments_lexer": "ipython3",
      "version": "3.9.7"
    },
    "colab": {
      "name": "STRING.M.ipynb",
      "provenance": [],
      "include_colab_link": true
    }
  },
  "nbformat": 4,
  "nbformat_minor": 5
}